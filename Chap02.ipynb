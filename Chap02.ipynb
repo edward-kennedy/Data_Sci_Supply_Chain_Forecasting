{
 "cells": [
  {
   "cell_type": "markdown",
   "id": "92ce385f",
   "metadata": {},
   "source": [
    "# Data Science for Supply Chain Forecasting by Nicolas Vandeput (2nd ed.)\n",
    "### Supplement by Edward Kennedy, July 2022\n",
    "\n",
    "\n",
    "## Chapter 2\n",
    "Define a moving average functon that returns a dataframe displaying demand, forecast, and error. Demand is a user furnished input (a Python list of observed demands) labeled d, forecast is the mean of the demand from the last n time increments, and error is the actual demand minus the forecast. The KPI's (bias, MAPE, MAE and RMS) will be calculated from this dataframe.\n",
    "\n",
    "Input parameters are the aforementioned d, the number of periods that need to be forecast into the future (extra_periods = 1), and n the number of time increments backward that will be averaged (n = 3). Note we have given extra_periods and n default values of 1 and 3, respectively."
   ]
  },
  {
   "cell_type": "code",
   "execution_count": 1,
   "id": "df921921",
   "metadata": {},
   "outputs": [],
   "source": [
    "import pandas as pd\n",
    "import numpy as np"
   ]
  },
  {
   "cell_type": "code",
   "execution_count": 2,
   "id": "da3d87ea",
   "metadata": {},
   "outputs": [],
   "source": [
    "def moving_average(d, extra_periods = 1, n = 3):\n",
    "    \n",
    "    # Historical period length\n",
    "    cols = len(d)\n",
    "    \n",
    "    # Append np.nan into demand array to cover future periods\n",
    "    d = np.append(d,[np.nan]*extra_periods)\n",
    "    \n",
    "    # Define the forecast array.\n",
    "    f = np.full(cols+extra_periods, np.nan)\n",
    "    \n",
    "    for t in range(n,cols):\n",
    "        f[t]=np.mean(d[t-n:t])\n",
    "    \n",
    "    # Forecast for all extra periods\n",
    "    f[t+1:] = np.mean(d[t-n+1: t+1])\n",
    "    \n",
    "    # Return a Dataframe with the demand, forecast, and error\n",
    "    df = pd.DataFrame.from_dict({'Demand': d, 'Forecast':f, 'Error': d-f})\n",
    "    print(df)\n",
    "    \n",
    "    return df"
   ]
  },
  {
   "cell_type": "markdown",
   "id": "1688e421",
   "metadata": {},
   "source": [
    "Define a function to compute absolute and relative bias."
   ]
  },
  {
   "cell_type": "code",
   "execution_count": 3,
   "id": "6f6f7a8d",
   "metadata": {},
   "outputs": [],
   "source": [
    "def kpi_Bias(df):\n",
    "    dem_ave = df.loc[df['Error'].notnull(), 'Demand'].mean()\n",
    "    bias_abs = df['Error'].mean()\n",
    "    bias_rel = bias_abs/dem_ave"
   ]
  },
  {
   "cell_type": "markdown",
   "id": "ae6367a1",
   "metadata": {},
   "source": [
    "Define the sequence of demands that will be utilized for the forecast. Write them as a Python list.  The same list as used in the book is provided below."
   ]
  },
  {
   "cell_type": "code",
   "execution_count": 4,
   "id": "c9b268e2",
   "metadata": {},
   "outputs": [],
   "source": [
    "d = [37, 60, 85, 112, 132, 145, 179, 198, 150, 132]"
   ]
  },
  {
   "cell_type": "markdown",
   "id": "dbcc36fc",
   "metadata": {},
   "source": [
    "Call the moving average function using four extra time increments and setting the moving average to three time increments."
   ]
  },
  {
   "cell_type": "code",
   "execution_count": 5,
   "id": "027ca1ca",
   "metadata": {},
   "outputs": [
    {
     "name": "stdout",
     "output_type": "stream",
     "text": [
      "    Demand    Forecast      Error\n",
      "0     37.0         NaN        NaN\n",
      "1     60.0         NaN        NaN\n",
      "2     85.0         NaN        NaN\n",
      "3    112.0   60.666667  51.333333\n",
      "4    132.0   85.666667  46.333333\n",
      "5    145.0  109.666667  35.333333\n",
      "6    179.0  129.666667  49.333333\n",
      "7    198.0  152.000000  46.000000\n",
      "8    150.0  174.000000 -24.000000\n",
      "9    132.0  175.666667 -43.666667\n",
      "10     NaN  160.000000        NaN\n",
      "11     NaN  160.000000        NaN\n",
      "12     NaN  160.000000        NaN\n",
      "13     NaN  160.000000        NaN\n"
     ]
    }
   ],
   "source": [
    "df = moving_average(d, extra_periods= 4, n=3)"
   ]
  },
  {
   "cell_type": "markdown",
   "id": "3a441ca1",
   "metadata": {},
   "source": [
    "As expected there are no forecasts or computed errors for the first n=3 periods because the moving average would require demands prior to period 0. As a sanity check consider period 3: we have (37 + 60 +85)/3 = 60.67 which is indeed the same as the first forecasted value. The actual demand was for 112 units so the corresponding error is 112 - 60.67 = 51.33 which checks with our results."
   ]
  },
  {
   "cell_type": "markdown",
   "id": "b3abb381",
   "metadata": {},
   "source": [
    "### Plot the moving average forecast. \n",
    "Do not use ylim = 30 as done in the book because the demand and the forecast both exceed 30."
   ]
  },
  {
   "cell_type": "code",
   "execution_count": 6,
   "id": "407c516d",
   "metadata": {},
   "outputs": [
    {
     "data": {
      "text/plain": [
       "<AxesSubplot:title={'center':'Moving Average'}>"
      ]
     },
     "execution_count": 6,
     "metadata": {},
     "output_type": "execute_result"
    },
    {
     "data": {
      "image/png": "[encoded data removed]",
      "text/plain": [
       "<Figure size 576x216 with 1 Axes>"
      ]
     },
     "metadata": {
      "needs_background": "light"
     },
     "output_type": "display_data"
    }
   ],
   "source": [
    "df[['Demand', 'Forecast']].plot(style=['-', '--'], title = 'Moving Average', figsize=(8,3))"
   ]
  },
  {
   "cell_type": "markdown",
   "id": "788f2f7d",
   "metadata": {},
   "source": [
    "### Calculate relative and absolute bias.\n",
    "Get this from the dataframe called 'df' created above"
   ]
  },
  {
   "cell_type": "code",
   "execution_count": 7,
   "id": "43f7be27",
   "metadata": {},
   "outputs": [],
   "source": [
    "def bias(df):\n",
    "    dem_ave = df.loc[df['Error'].notnull(), 'Demand'].mean()\n",
    "    bias_abs = df['Error'].mean()\n",
    "    bias_rel = bias_abs/dem_ave\n",
    "    print('Absolute Bias: {:0.2f}'.format(bias_abs))\n",
    "    print('Relative Bias: {:0.2%}'.format(bias_rel))"
   ]
  },
  {
   "cell_type": "code",
   "execution_count": 8,
   "id": "b2d8866e",
   "metadata": {},
   "outputs": [
    {
     "name": "stdout",
     "output_type": "stream",
     "text": [
      "Absolute Bias: 22.95\n",
      "Relative Bias: 15.33%\n"
     ]
    }
   ],
   "source": [
    "bias(df)"
   ]
  },
  {
   "cell_type": "markdown",
   "id": "be6d5996",
   "metadata": {},
   "source": [
    "### Calculate MAPE"
   ]
  },
  {
   "cell_type": "code",
   "execution_count": 9,
   "id": "5ce2ce41",
   "metadata": {},
   "outputs": [
    {
     "data": {
      "text/plain": [
       "0.29310830322099823"
      ]
     },
     "execution_count": 9,
     "metadata": {},
     "output_type": "execute_result"
    }
   ],
   "source": [
    "MAPE = (df['Error'].abs()/df['Demand']).mean()\n",
    "MAPE"
   ]
  },
  {
   "cell_type": "markdown",
   "id": "b0e9d3bb",
   "metadata": {},
   "source": [
    "### Calculate MAE"
   ]
  },
  {
   "cell_type": "code",
   "execution_count": 10,
   "id": "342e0f59",
   "metadata": {},
   "outputs": [],
   "source": [
    "def mae(df):\n",
    "    dem_ave = df.loc[df['Error'].notnull(), 'Demand'].mean()\n",
    "    MAE_abs = df['Error'].abs().mean()\n",
    "    MAE_rel = MAE_abs/dem_ave\n",
    "    print('MAE Absolute: {:.2f}'.format(MAE_abs))\n",
    "    print('MAE Relative: {:.2%}'.format(MAE_rel))"
   ]
  },
  {
   "cell_type": "code",
   "execution_count": 11,
   "id": "0f4ef2da",
   "metadata": {},
   "outputs": [
    {
     "name": "stdout",
     "output_type": "stream",
     "text": [
      "MAE Absolute: 42.29\n",
      "MAE Relative: 28.24%\n"
     ]
    }
   ],
   "source": [
    "mae(df)"
   ]
  },
  {
   "cell_type": "markdown",
   "id": "9de03cc3",
   "metadata": {},
   "source": [
    "### Calculate RMSE"
   ]
  },
  {
   "cell_type": "code",
   "execution_count": 12,
   "id": "79932d16",
   "metadata": {},
   "outputs": [],
   "source": [
    "def rmse(df):\n",
    "    dem_ave = df.loc[df['Error'].notnull(), 'Demand'].mean()\n",
    "    RMSE_abs = np.sqrt((df['Error']**2).mean())\n",
    "    RMSE_rel = RMSE_abs/dem_ave\n",
    "    print('RMSE Absolute: {:.2f}'.format(RMSE_abs))\n",
    "    print('RMSE Relative: {:.2%}'.format(RMSE_rel))\n",
    "    "
   ]
  },
  {
   "cell_type": "code",
   "execution_count": 13,
   "id": "e3c06da0",
   "metadata": {},
   "outputs": [
    {
     "name": "stdout",
     "output_type": "stream",
     "text": [
      "RMSE Absolute: 43.20\n",
      "RMSE Relative: 28.85%\n"
     ]
    }
   ],
   "source": [
    "rmse(df)"
   ]
  },
  {
   "cell_type": "markdown",
   "id": "1b74e080",
   "metadata": {},
   "source": [
    "We can now aggregate these KPIs into a single function as the author had done."
   ]
  },
  {
   "cell_type": "code",
   "execution_count": 14,
   "id": "d47fadc2",
   "metadata": {},
   "outputs": [],
   "source": [
    "def kpi(df):\n",
    "    dem_ave = df.loc[df['Error'].notnull(), 'Demand'].mean()\n",
    "    bias_abs = df['Error'].mean()\n",
    "    bias_rel = bias_abs/dem_ave\n",
    "    print('Absolute Bias: {:0.2f}'.format(bias_abs))\n",
    "    print('Relative Bias: {:0.2%}'.format(bias_rel))\n",
    "    \n",
    "    MAPE = (df['Error'].abs()/df['Demand']).mean()\n",
    "    print('MAPE: {:0.2%}'.format(MAPE))\n",
    "    \n",
    "    MAE_abs = df['Error'].abs().mean()\n",
    "    MAE_rel = MAE_abs/dem_ave\n",
    "    print('MAE Absolute: {:.2f}'.format(MAE_abs))\n",
    "    print('MAE Relative: {:.2%}'.format(MAE_rel))\n",
    "    \n",
    "    RMSE_abs = np.sqrt((df['Error']**2).mean())\n",
    "    RMSE_rel = RMSE_abs/dem_ave\n",
    "    print('RMSE Absolute: {:.2f}'.format(RMSE_abs))\n",
    "    print('RMSE Relative: {:.2%}'.format(RMSE_rel))\n",
    "    "
   ]
  },
  {
   "cell_type": "code",
   "execution_count": 15,
   "id": "c30728dc",
   "metadata": {},
   "outputs": [
    {
     "name": "stdout",
     "output_type": "stream",
     "text": [
      "Absolute Bias: 22.95\n",
      "Relative Bias: 15.33%\n",
      "MAPE: 29.31%\n",
      "MAE Absolute: 42.29\n",
      "MAE Relative: 28.24%\n",
      "RMSE Absolute: 43.20\n",
      "RMSE Relative: 28.85%\n"
     ]
    }
   ],
   "source": [
    "kpi(df)"
   ]
  },
  {
   "cell_type": "markdown",
   "id": "14939ef2",
   "metadata": {},
   "source": [
    "## Plotting the effect of variable n"
   ]
  },
  {
   "cell_type": "markdown",
   "id": "5cbfbab7",
   "metadata": {},
   "source": [
    "Let see what effect varying the time increment has on forecast error. First well define a new demand function by appending new values to the previous array we used for d. This longer sequence will enable more accurately portray the fffect of extending the time increment n."
   ]
  },
  {
   "cell_type": "code",
   "execution_count": 16,
   "id": "d7a87198",
   "metadata": {},
   "outputs": [],
   "source": [
    "d = [37, 60, 85, 112, 132, 145, 179, 198, 150, 132, 101, 119, 100, 88, 72, 42, 80, 97, 131, 150, 168, 177, 190, 167, 154, 129 ]"
   ]
  },
  {
   "cell_type": "markdown",
   "id": "e9e991bd",
   "metadata": {},
   "source": [
    "The moving_average subroutine is copied below then modified to incorporate three values of n which are labeled n1, n2, and n3.  This change will result in new forecasts and forecast errors which are named in the below code corresponding to thier associated value of n."
   ]
  },
  {
   "cell_type": "code",
   "execution_count": 17,
   "id": "9946b58f",
   "metadata": {},
   "outputs": [],
   "source": [
    "def moving_average2(d, extra_periods, n1, n2, n3):\n",
    "    \n",
    "    # Historical period length\n",
    "    cols = len(d)\n",
    "    \n",
    "    # Append np.nan into demand array to cover future periods\n",
    "    d = np.append(d,[np.nan]*extra_periods)\n",
    "    \n",
    "    # Define the forecast array for n1.\n",
    "    f1 = np.full(cols+extra_periods, np.nan)\n",
    "    \n",
    "    for t in range(n1,cols):\n",
    "        f1[t]=np.mean(d[t-n1:t])\n",
    "    \n",
    "    # Forecast for all extra periods\n",
    "    f1[t+1:] = np.mean(d[t-n1+1: t+1])\n",
    "    \n",
    "      \n",
    "    # Define the forecast array for n2.\n",
    "    f2 = np.full(cols+extra_periods, np.nan)\n",
    "    \n",
    "    for t in range(n2,cols):\n",
    "        f2[t]=np.mean(d[t-n2:t])\n",
    "    \n",
    "    # Forecast for all extra periods\n",
    "    f2[t+1:] = np.mean(d[t-n2+1: t+1])\n",
    "    \n",
    "    \n",
    "    # Define the forecast array for n3.\n",
    "    f3 = np.full(cols+extra_periods, np.nan)\n",
    "    \n",
    "    for t in range(n3,cols):\n",
    "        f3[t]=np.mean(d[t-n3:t])\n",
    "    \n",
    "    # Forecast for all extra periods\n",
    "    f3[t+1:] = np.mean(d[t-n3+1: t+1])\n",
    "    \n",
    "    # Return a Dataframe with the demand, forecast, and error\n",
    "    df = pd.DataFrame.from_dict({'Demand': d,'Forecast1':f1,'Error1':d-f1,'Forecast2':f2,'Error2':d-f2,'Forecast3':f3,'Error3': d-f3})\n",
    "    print(df)\n",
    "    \n",
    "    return df"
   ]
  },
  {
   "cell_type": "markdown",
   "id": "0b3dc9df",
   "metadata": {},
   "source": [
    "Call the new moving average function using one extra time increment and setting the time increments n to 1, 3, and 5, respectively."
   ]
  },
  {
   "cell_type": "code",
   "execution_count": 20,
   "id": "b82b2273",
   "metadata": {},
   "outputs": [
    {
     "name": "stdout",
     "output_type": "stream",
     "text": [
      "    Demand  Forecast1  Error1   Forecast2     Error2  Forecast3  Error3\n",
      "0     37.0        NaN     NaN         NaN        NaN        NaN     NaN\n",
      "1     60.0       37.0    23.0         NaN        NaN        NaN     NaN\n",
      "2     85.0       60.0    25.0         NaN        NaN        NaN     NaN\n",
      "3    112.0       85.0    27.0   60.666667  51.333333        NaN     NaN\n",
      "4    132.0      112.0    20.0   85.666667  46.333333        NaN     NaN\n",
      "5    145.0      132.0    13.0  109.666667  35.333333       85.2    59.8\n",
      "6    179.0      145.0    34.0  129.666667  49.333333      106.8    72.2\n",
      "7    198.0      179.0    19.0  152.000000  46.000000      130.6    67.4\n",
      "8    150.0      198.0   -48.0  174.000000 -24.000000      153.2    -3.2\n",
      "9    132.0      150.0   -18.0  175.666667 -43.666667      160.8   -28.8\n",
      "10   101.0      132.0   -31.0  160.000000 -59.000000      160.8   -59.8\n",
      "11   119.0      101.0    18.0  127.666667  -8.666667      152.0   -33.0\n",
      "12   100.0      119.0   -19.0  117.333333 -17.333333      140.0   -40.0\n",
      "13    88.0      100.0   -12.0  106.666667 -18.666667      120.4   -32.4\n",
      "14    72.0       88.0   -16.0  102.333333 -30.333333      108.0   -36.0\n",
      "15    42.0       72.0   -30.0   86.666667 -44.666667       96.0   -54.0\n",
      "16    80.0       42.0    38.0   67.333333  12.666667       84.2    -4.2\n",
      "17    97.0       80.0    17.0   64.666667  32.333333       76.4    20.6\n",
      "18   131.0       97.0    34.0   73.000000  58.000000       75.8    55.2\n",
      "19   150.0      131.0    19.0  102.666667  47.333333       84.4    65.6\n",
      "20   168.0      150.0    18.0  126.000000  42.000000      100.0    68.0\n",
      "21   177.0      168.0     9.0  149.666667  27.333333      125.2    51.8\n",
      "22   190.0      177.0    13.0  165.000000  25.000000      144.6    45.4\n",
      "23   167.0      190.0   -23.0  178.333333 -11.333333      163.2     3.8\n",
      "24   154.0      167.0   -13.0  178.000000 -24.000000      170.4   -16.4\n",
      "25   129.0      154.0   -25.0  170.333333 -41.333333      171.2   -42.2\n",
      "26     NaN      129.0     NaN  150.000000        NaN      163.4     NaN\n"
     ]
    }
   ],
   "source": [
    "df2 = moving_average2(d, extra_periods= 1, n1 = 1, n2 = 3, n3 = 5)"
   ]
  },
  {
   "cell_type": "markdown",
   "id": "14161c29",
   "metadata": {},
   "source": [
    "Plot the erors corresponding to n1, n2, and n3. Note how the error plots lag the peaks and valleys of the demand curve. Shorter time increments may result in a less lag but at the expense of a higher amplitude of error."
   ]
  },
  {
   "cell_type": "code",
   "execution_count": 21,
   "id": "1bf28667",
   "metadata": {},
   "outputs": [
    {
     "data": {
      "text/plain": [
       "<AxesSubplot:title={'center':'Error Comparison'}>"
      ]
     },
     "execution_count": 21,
     "metadata": {},
     "output_type": "execute_result"
    },
    {
     "data": {
      "image/png": "[encoded data removed]",
      "text/plain": [
       "<Figure size 576x216 with 1 Axes>"
      ]
     },
     "metadata": {
      "needs_background": "light"
     },
     "output_type": "display_data"
    }
   ],
   "source": [
    "df2[['Demand', 'Error1', 'Error2', 'Error3']].plot(style=['.-','-', '--', '-.'], title = 'Error Comparison', figsize=(8,3))"
   ]
  },
  {
   "cell_type": "code",
   "execution_count": null,
   "id": "79526b13",
   "metadata": {},
   "outputs": [],
   "source": []
  }
 ],
 "metadata": {
  "kernelspec": {
   "display_name": "Python 3",
   "language": "python",
   "name": "python3"
  },
  "language_info": {
   "codemirror_mode": {
    "name": "ipython",
    "version": 3
   },
   "file_extension": ".py",
   "mimetype": "text/x-python",
   "name": "python",
   "nbconvert_exporter": "python",
   "pygments_lexer": "ipython3",
   "version": "3.8.5"
  }
 },
 "nbformat": 4,
 "nbformat_minor": 5
}
