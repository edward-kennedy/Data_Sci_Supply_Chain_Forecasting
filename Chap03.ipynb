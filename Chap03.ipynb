{
 "cells": [
  {
   "cell_type": "markdown",
   "id": "92ce385f",
   "metadata": {},
   "source": [
    "# Data Science for Supply Chain Forecasting by Nicolas Vandeput (2nd ed.)\n",
    "### Supplement by Edward Kennedy, July 2022\n",
    "\n",
    "\n",
    "## Chapter 3\n",
    "Define a simple smoothing functon that returns a dataframe displaying demand, forecast, and error. Demand is a user furnished input (Python list of observed demands) labeled d, forecast is the mean of the demand from the last n=3 time increments, and error is the actual demand minus the forecast. The simple exponential smoothing forecast will be calculated this dataframe.\n",
    "\n",
    "Input parameters are the aforementioned d, the number of periods that need to be forecast into the future (extra_periods = 1), and the smoothing parameter alpha (alpha = 0.4). Note we have given extra_periods and alpha default values of 1 and 0.4, respectively."
   ]
  },
  {
   "cell_type": "code",
   "execution_count": 1,
   "id": "df921921",
   "metadata": {},
   "outputs": [],
   "source": [
    "import pandas as pd\n",
    "import numpy as np"
   ]
  },
  {
   "cell_type": "code",
   "execution_count": 2,
   "id": "da3d87ea",
   "metadata": {},
   "outputs": [],
   "source": [
    "def simple_exp_smooth(d, extra_periods = 1, alpha = 0.4):\n",
    "    \n",
    "    # Historical period length\n",
    "    cols = len(d)\n",
    "    \n",
    "    # Append np.nan into demand array to cover future periods\n",
    "    d = np.append(d,[np.nan]*extra_periods)\n",
    "    \n",
    "    # Define the forecast array.\n",
    "    f = np.full(cols+extra_periods, np.nan)\n",
    "    \n",
    "    # Initiation of first forecast\n",
    "    f[1] = d[0]\n",
    "    \n",
    "    # Create all of the t+1 forecasts until the end of the historical period\n",
    "    for t in range(2,cols+1):\n",
    "        f[t]= alpha * d[t-1] + (1 - alpha)*f[t-1]\n",
    "    \n",
    "    # Forecast for all extra periods (present forecast = previous forecast)\n",
    "    for t in range(cols + 1, cols + extra_periods):\n",
    "        f[t] = f[t-1]\n",
    "    \n",
    "    \n",
    "    # Return a Dataframe with the demand, forecast, and error\n",
    "    df = pd.DataFrame.from_dict({'Demand': d, 'Forecast':f, 'Error': d-f})\n",
    "    print(df)\n",
    "    \n",
    "    return df"
   ]
  },
  {
   "cell_type": "markdown",
   "id": "ae6367a1",
   "metadata": {},
   "source": [
    "Define the sequence of demands that will be utilized for the forecast. Write them as a Python list.  The same list as used in the book is provided below."
   ]
  },
  {
   "cell_type": "code",
   "execution_count": 3,
   "id": "c9b268e2",
   "metadata": {},
   "outputs": [],
   "source": [
    "d = [28, 19, 17, 13, 19, 16, 19, 18, 13, 16, 16, 11, 18, 15, 13, 15, 13, 11, 13, 10, 12]"
   ]
  },
  {
   "cell_type": "markdown",
   "id": "dbcc36fc",
   "metadata": {},
   "source": [
    "Call the simple exponential smoothing function using four extra time increments and the default alpha."
   ]
  },
  {
   "cell_type": "code",
   "execution_count": 4,
   "id": "027ca1ca",
   "metadata": {},
   "outputs": [
    {
     "name": "stdout",
     "output_type": "stream",
     "text": [
      "    Demand   Forecast     Error\n",
      "0     28.0        NaN       NaN\n",
      "1     19.0  28.000000 -9.000000\n",
      "2     17.0  24.400000 -7.400000\n",
      "3     13.0  21.440000 -8.440000\n",
      "4     19.0  18.064000  0.936000\n",
      "5     16.0  18.438400 -2.438400\n",
      "6     19.0  17.463040  1.536960\n",
      "7     18.0  18.077824 -0.077824\n",
      "8     13.0  18.046694 -5.046694\n",
      "9     16.0  16.028017 -0.028017\n",
      "10    16.0  16.016810 -0.016810\n",
      "11    11.0  16.010086 -5.010086\n",
      "12    18.0  14.006052  3.993948\n",
      "13    15.0  15.603631 -0.603631\n",
      "14    13.0  15.362179 -2.362179\n",
      "15    15.0  14.417307  0.582693\n",
      "16    13.0  14.650384 -1.650384\n",
      "17    11.0  13.990231 -2.990231\n",
      "18    13.0  12.794138  0.205862\n",
      "19    10.0  12.876483 -2.876483\n",
      "20    12.0  11.725890  0.274110\n",
      "21     NaN  11.835534       NaN\n",
      "22     NaN  11.835534       NaN\n",
      "23     NaN  11.835534       NaN\n",
      "24     NaN  11.835534       NaN\n"
     ]
    }
   ],
   "source": [
    "df = simple_exp_smooth(d, extra_periods= 4)"
   ]
  },
  {
   "cell_type": "markdown",
   "id": "b3abb381",
   "metadata": {},
   "source": [
    "### Plot the simple exponential smoothing forecast. "
   ]
  },
  {
   "cell_type": "code",
   "execution_count": 5,
   "id": "407c516d",
   "metadata": {},
   "outputs": [
    {
     "data": {
      "text/plain": [
       "<AxesSubplot:title={'center':'Simple Smoothing'}>"
      ]
     },
     "execution_count": 5,
     "metadata": {},
     "output_type": "execute_result"
    },
    {
     "data": {
      "image/png": "[encoded data removed]",
      "text/plain": [
       "<Figure size 576x216 with 1 Axes>"
      ]
     },
     "metadata": {
      "needs_background": "light"
     },
     "output_type": "display_data"
    }
   ],
   "source": [
    "df[['Demand', 'Forecast']].plot(style=['-', '--'], title = 'Simple Smoothing', ylim = (0, 30), figsize=(8,3))"
   ]
  },
  {
   "cell_type": "markdown",
   "id": "9de03cc3",
   "metadata": {},
   "source": [
    "### Calculate KPIs"
   ]
  },
  {
   "cell_type": "markdown",
   "id": "1b74e080",
   "metadata": {},
   "source": [
    "Calculate the KPIs using the code written in Chapter 2."
   ]
  },
  {
   "cell_type": "code",
   "execution_count": 6,
   "id": "d47fadc2",
   "metadata": {},
   "outputs": [],
   "source": [
    "def kpi(df):\n",
    "    dem_ave = df.loc[df['Error'].notnull(), 'Demand'].mean()\n",
    "    bias_abs = df['Error'].mean()\n",
    "    bias_rel = bias_abs/dem_ave\n",
    "    print('Absolute Bias: {:0.2f}'.format(bias_abs))\n",
    "    print('Relative Bias: {:0.2%}'.format(bias_rel))\n",
    "    \n",
    "    MAPE = (df['Error'].abs()/df['Demand']).mean()\n",
    "    print('MAPE: {:0.2%}'.format(MAPE))\n",
    "    \n",
    "    MAE_abs = df['Error'].abs().mean()\n",
    "    MAE_rel = MAE_abs/dem_ave\n",
    "    print('MAE Absolute: {:.2f}'.format(MAE_abs))\n",
    "    print('MAE Relative: {:.2%}'.format(MAE_rel))\n",
    "    \n",
    "    RMSE_abs = np.sqrt((df['Error']**2).mean())\n",
    "    RMSE_rel = RMSE_abs/dem_ave\n",
    "    print('RMSE Absolute: {:.2f}'.format(RMSE_abs))\n",
    "    print('RMSE Relative: {:.2%}'.format(RMSE_rel))\n",
    "    "
   ]
  },
  {
   "cell_type": "code",
   "execution_count": 7,
   "id": "c30728dc",
   "metadata": {},
   "outputs": [
    {
     "name": "stdout",
     "output_type": "stream",
     "text": [
      "Absolute Bias: -2.02\n",
      "Relative Bias: -13.61%\n",
      "MAPE: 19.50%\n",
      "MAE Absolute: 2.77\n",
      "MAE Relative: 18.68%\n",
      "RMSE Absolute: 3.93\n",
      "RMSE Relative: 26.47%\n"
     ]
    }
   ],
   "source": [
    "kpi(df)"
   ]
  },
  {
   "cell_type": "code",
   "execution_count": null,
   "id": "c7e0acda",
   "metadata": {},
   "outputs": [],
   "source": []
  },
  {
   "cell_type": "code",
   "execution_count": null,
   "id": "81bca81e",
   "metadata": {},
   "outputs": [],
   "source": []
  },
  {
   "cell_type": "code",
   "execution_count": null,
   "id": "ecec1abc",
   "metadata": {},
   "outputs": [],
   "source": []
  },
  {
   "cell_type": "code",
   "execution_count": 8,
   "id": "a9dac83e",
   "metadata": {},
   "outputs": [
    {
     "data": {
      "text/plain": [
       "[<matplotlib.lines.Line2D at 0x21ec7e4e520>]"
      ]
     },
     "execution_count": 8,
     "metadata": {},
     "output_type": "execute_result"
    },
    {
     "data": {
      "image/png": "[encoded data removed]",
      "text/plain": [
       "<Figure size 432x288 with 1 Axes>"
      ]
     },
     "metadata": {
      "needs_background": "light"
     },
     "output_type": "display_data"
    }
   ],
   "source": [
    "# So the basic idea below is to call ax.plot() for all datasets you need to plot into the same plot.\n",
    "\n",
    "import matplotlib.pyplot as plt\n",
    "\n",
    "xvals = [i for i in range(0, 10)]\n",
    "yvals1 = [i**2 for i in range(0, 10)]\n",
    "yvals2 = [i**3 for i in range(0, 10)]\n",
    "\n",
    "f, ax = plt.subplots(1)\n",
    "ax.plot(xvals, yvals1)\n",
    "ax.plot(xvals, yvals2)"
   ]
  },
  {
   "cell_type": "code",
   "execution_count": 9,
   "id": "5d366738",
   "metadata": {},
   "outputs": [],
   "source": [
    "def moving_average_mod(d, extra_periods = 1, n = 3):\n",
    "    \n",
    "    # Historical period length\n",
    "    cols = len(d)\n",
    "    \n",
    "    # Append np.nan into demand array to cover future periods\n",
    "    d = np.append(d,[np.nan]*extra_periods)\n",
    "    \n",
    "    # Define the forecast array.\n",
    "    f = np.full(cols+extra_periods, np.nan)\n",
    "    \n",
    "    for t in range(n,cols):\n",
    "        f[t]=np.mean(d[t-n:t])\n",
    "    \n",
    "    # Forecast for all extra periods\n",
    "    f[t+1:] = np.mean(d[t-n+1: t+1])\n",
    "    \n",
    "    # Return a Dataframe with the demand, forecast, and error\n",
    "    df = pd.DataFrame.from_dict({'Demand': d, 'Forecast_Moving_Avg':f, 'Error': d-f})\n",
    "    print(df)\n",
    "    \n",
    "    return df"
   ]
  },
  {
   "cell_type": "code",
   "execution_count": 10,
   "id": "ab217f39",
   "metadata": {},
   "outputs": [],
   "source": [
    "def simple_exp_smooth_mod(d, extra_periods = 1, alpha = 0.4):\n",
    "    \n",
    "    # Historical period length\n",
    "    cols = len(d)\n",
    "    \n",
    "    # Append np.nan into demand array to cover future periods\n",
    "    d = np.append(d,[np.nan]*extra_periods)\n",
    "    \n",
    "    # Define the forecast array.\n",
    "    f = np.full(cols+extra_periods, np.nan)\n",
    "    \n",
    "    # Initiation of first forecast\n",
    "    f[1] = d[0]\n",
    "    \n",
    "    # Create all of the t+1 forecasts until the end of the historical period\n",
    "    for t in range(2,cols+1):\n",
    "        f[t]= alpha * d[t-1] + (1 - alpha)*f[t-1]\n",
    "    \n",
    "    # Forecast for all extra periods (present forecast = previous forecast)\n",
    "    for t in range(cols + 1, cols + extra_periods):\n",
    "        f[t] = f[t-1]\n",
    "    \n",
    "    \n",
    "    # Return a Dataframe with the demand, forecast, and error\n",
    "    df = pd.DataFrame.from_dict({'Demand': d, 'Forecast_Exp_Smooth':f, 'Error': d-f})\n",
    "    print(df)\n",
    "    \n",
    "    return df"
   ]
  },
  {
   "cell_type": "code",
   "execution_count": 12,
   "id": "edb6c422",
   "metadata": {},
   "outputs": [
    {
     "name": "stdout",
     "output_type": "stream",
     "text": [
      "    Demand  Forecast_Exp_Smooth     Error\n",
      "0     28.0                  NaN       NaN\n",
      "1     19.0            28.000000 -9.000000\n",
      "2     17.0            24.400000 -7.400000\n",
      "3     13.0            21.440000 -8.440000\n",
      "4     19.0            18.064000  0.936000\n",
      "5     16.0            18.438400 -2.438400\n",
      "6     19.0            17.463040  1.536960\n",
      "7     18.0            18.077824 -0.077824\n",
      "8     13.0            18.046694 -5.046694\n",
      "9     16.0            16.028017 -0.028017\n",
      "10    16.0            16.016810 -0.016810\n",
      "11    11.0            16.010086 -5.010086\n",
      "12    18.0            14.006052  3.993948\n",
      "13    15.0            15.603631 -0.603631\n",
      "14    13.0            15.362179 -2.362179\n",
      "15    15.0            14.417307  0.582693\n",
      "16    13.0            14.650384 -1.650384\n",
      "17    11.0            13.990231 -2.990231\n",
      "18    13.0            12.794138  0.205862\n",
      "19    10.0            12.876483 -2.876483\n",
      "20    12.0            11.725890  0.274110\n",
      "21     NaN            11.835534       NaN\n",
      "22     NaN            11.835534       NaN\n",
      "23     NaN            11.835534       NaN\n",
      "24     NaN            11.835534       NaN\n"
     ]
    }
   ],
   "source": [
    "df1 = simple_exp_smooth_mod(d, extra_periods= 4)"
   ]
  },
  {
   "cell_type": "code",
   "execution_count": 13,
   "id": "87289c2b",
   "metadata": {},
   "outputs": [
    {
     "name": "stdout",
     "output_type": "stream",
     "text": [
      "    Demand  Forecast_Moving_Avg     Error\n",
      "0     28.0                  NaN       NaN\n",
      "1     19.0                  NaN       NaN\n",
      "2     17.0                  NaN       NaN\n",
      "3     13.0            21.333333 -8.333333\n",
      "4     19.0            16.333333  2.666667\n",
      "5     16.0            16.333333 -0.333333\n",
      "6     19.0            16.000000  3.000000\n",
      "7     18.0            18.000000  0.000000\n",
      "8     13.0            17.666667 -4.666667\n",
      "9     16.0            16.666667 -0.666667\n",
      "10    16.0            15.666667  0.333333\n",
      "11    11.0            15.000000 -4.000000\n",
      "12    18.0            14.333333  3.666667\n",
      "13    15.0            15.000000  0.000000\n",
      "14    13.0            14.666667 -1.666667\n",
      "15    15.0            15.333333 -0.333333\n",
      "16    13.0            14.333333 -1.333333\n",
      "17    11.0            13.666667 -2.666667\n",
      "18    13.0            13.000000  0.000000\n",
      "19    10.0            12.333333 -2.333333\n",
      "20    12.0            11.333333  0.666667\n",
      "21     NaN            11.666667       NaN\n",
      "22     NaN            11.666667       NaN\n",
      "23     NaN            11.666667       NaN\n",
      "24     NaN            11.666667       NaN\n"
     ]
    }
   ],
   "source": [
    "df2 = moving_average_mod(d, extra_periods = 4, n = 3)"
   ]
  },
  {
   "cell_type": "code",
   "execution_count": 52,
   "id": "1ab1d240",
   "metadata": {},
   "outputs": [],
   "source": [
    "df2['xvals'] = np.arange(0, 25)"
   ]
  },
  {
   "cell_type": "code",
   "execution_count": 53,
   "id": "7ebe5dde",
   "metadata": {},
   "outputs": [
    {
     "data": {
      "text/html": [
       "<div>\n",
       "<style scoped>\n",
       "    .dataframe tbody tr th:only-of-type {\n",
       "        vertical-align: middle;\n",
       "    }\n",
       "\n",
       "    .dataframe tbody tr th {\n",
       "        vertical-align: top;\n",
       "    }\n",
       "\n",
       "    .dataframe thead th {\n",
       "        text-align: right;\n",
       "    }\n",
       "</style>\n",
       "<table border=\"1\" class=\"dataframe\">\n",
       "  <thead>\n",
       "    <tr style=\"text-align: right;\">\n",
       "      <th></th>\n",
       "      <th>Demand</th>\n",
       "      <th>Forecast_Moving_Avg</th>\n",
       "      <th>Error</th>\n",
       "      <th>xvals</th>\n",
       "    </tr>\n",
       "  </thead>\n",
       "  <tbody>\n",
       "    <tr>\n",
       "      <th>0</th>\n",
       "      <td>28.0</td>\n",
       "      <td>NaN</td>\n",
       "      <td>NaN</td>\n",
       "      <td>0</td>\n",
       "    </tr>\n",
       "    <tr>\n",
       "      <th>1</th>\n",
       "      <td>19.0</td>\n",
       "      <td>NaN</td>\n",
       "      <td>NaN</td>\n",
       "      <td>1</td>\n",
       "    </tr>\n",
       "    <tr>\n",
       "      <th>2</th>\n",
       "      <td>17.0</td>\n",
       "      <td>NaN</td>\n",
       "      <td>NaN</td>\n",
       "      <td>2</td>\n",
       "    </tr>\n",
       "    <tr>\n",
       "      <th>3</th>\n",
       "      <td>13.0</td>\n",
       "      <td>21.333333</td>\n",
       "      <td>-8.333333</td>\n",
       "      <td>3</td>\n",
       "    </tr>\n",
       "    <tr>\n",
       "      <th>4</th>\n",
       "      <td>19.0</td>\n",
       "      <td>16.333333</td>\n",
       "      <td>2.666667</td>\n",
       "      <td>4</td>\n",
       "    </tr>\n",
       "    <tr>\n",
       "      <th>5</th>\n",
       "      <td>16.0</td>\n",
       "      <td>16.333333</td>\n",
       "      <td>-0.333333</td>\n",
       "      <td>5</td>\n",
       "    </tr>\n",
       "    <tr>\n",
       "      <th>6</th>\n",
       "      <td>19.0</td>\n",
       "      <td>16.000000</td>\n",
       "      <td>3.000000</td>\n",
       "      <td>6</td>\n",
       "    </tr>\n",
       "    <tr>\n",
       "      <th>7</th>\n",
       "      <td>18.0</td>\n",
       "      <td>18.000000</td>\n",
       "      <td>0.000000</td>\n",
       "      <td>7</td>\n",
       "    </tr>\n",
       "    <tr>\n",
       "      <th>8</th>\n",
       "      <td>13.0</td>\n",
       "      <td>17.666667</td>\n",
       "      <td>-4.666667</td>\n",
       "      <td>8</td>\n",
       "    </tr>\n",
       "    <tr>\n",
       "      <th>9</th>\n",
       "      <td>16.0</td>\n",
       "      <td>16.666667</td>\n",
       "      <td>-0.666667</td>\n",
       "      <td>9</td>\n",
       "    </tr>\n",
       "    <tr>\n",
       "      <th>10</th>\n",
       "      <td>16.0</td>\n",
       "      <td>15.666667</td>\n",
       "      <td>0.333333</td>\n",
       "      <td>10</td>\n",
       "    </tr>\n",
       "    <tr>\n",
       "      <th>11</th>\n",
       "      <td>11.0</td>\n",
       "      <td>15.000000</td>\n",
       "      <td>-4.000000</td>\n",
       "      <td>11</td>\n",
       "    </tr>\n",
       "    <tr>\n",
       "      <th>12</th>\n",
       "      <td>18.0</td>\n",
       "      <td>14.333333</td>\n",
       "      <td>3.666667</td>\n",
       "      <td>12</td>\n",
       "    </tr>\n",
       "    <tr>\n",
       "      <th>13</th>\n",
       "      <td>15.0</td>\n",
       "      <td>15.000000</td>\n",
       "      <td>0.000000</td>\n",
       "      <td>13</td>\n",
       "    </tr>\n",
       "    <tr>\n",
       "      <th>14</th>\n",
       "      <td>13.0</td>\n",
       "      <td>14.666667</td>\n",
       "      <td>-1.666667</td>\n",
       "      <td>14</td>\n",
       "    </tr>\n",
       "    <tr>\n",
       "      <th>15</th>\n",
       "      <td>15.0</td>\n",
       "      <td>15.333333</td>\n",
       "      <td>-0.333333</td>\n",
       "      <td>15</td>\n",
       "    </tr>\n",
       "    <tr>\n",
       "      <th>16</th>\n",
       "      <td>13.0</td>\n",
       "      <td>14.333333</td>\n",
       "      <td>-1.333333</td>\n",
       "      <td>16</td>\n",
       "    </tr>\n",
       "    <tr>\n",
       "      <th>17</th>\n",
       "      <td>11.0</td>\n",
       "      <td>13.666667</td>\n",
       "      <td>-2.666667</td>\n",
       "      <td>17</td>\n",
       "    </tr>\n",
       "    <tr>\n",
       "      <th>18</th>\n",
       "      <td>13.0</td>\n",
       "      <td>13.000000</td>\n",
       "      <td>0.000000</td>\n",
       "      <td>18</td>\n",
       "    </tr>\n",
       "    <tr>\n",
       "      <th>19</th>\n",
       "      <td>10.0</td>\n",
       "      <td>12.333333</td>\n",
       "      <td>-2.333333</td>\n",
       "      <td>19</td>\n",
       "    </tr>\n",
       "    <tr>\n",
       "      <th>20</th>\n",
       "      <td>12.0</td>\n",
       "      <td>11.333333</td>\n",
       "      <td>0.666667</td>\n",
       "      <td>20</td>\n",
       "    </tr>\n",
       "    <tr>\n",
       "      <th>21</th>\n",
       "      <td>NaN</td>\n",
       "      <td>11.666667</td>\n",
       "      <td>NaN</td>\n",
       "      <td>21</td>\n",
       "    </tr>\n",
       "    <tr>\n",
       "      <th>22</th>\n",
       "      <td>NaN</td>\n",
       "      <td>11.666667</td>\n",
       "      <td>NaN</td>\n",
       "      <td>22</td>\n",
       "    </tr>\n",
       "    <tr>\n",
       "      <th>23</th>\n",
       "      <td>NaN</td>\n",
       "      <td>11.666667</td>\n",
       "      <td>NaN</td>\n",
       "      <td>23</td>\n",
       "    </tr>\n",
       "    <tr>\n",
       "      <th>24</th>\n",
       "      <td>NaN</td>\n",
       "      <td>11.666667</td>\n",
       "      <td>NaN</td>\n",
       "      <td>24</td>\n",
       "    </tr>\n",
       "  </tbody>\n",
       "</table>\n",
       "</div>"
      ],
      "text/plain": [
       "    Demand  Forecast_Moving_Avg     Error  xvals\n",
       "0     28.0                  NaN       NaN      0\n",
       "1     19.0                  NaN       NaN      1\n",
       "2     17.0                  NaN       NaN      2\n",
       "3     13.0            21.333333 -8.333333      3\n",
       "4     19.0            16.333333  2.666667      4\n",
       "5     16.0            16.333333 -0.333333      5\n",
       "6     19.0            16.000000  3.000000      6\n",
       "7     18.0            18.000000  0.000000      7\n",
       "8     13.0            17.666667 -4.666667      8\n",
       "9     16.0            16.666667 -0.666667      9\n",
       "10    16.0            15.666667  0.333333     10\n",
       "11    11.0            15.000000 -4.000000     11\n",
       "12    18.0            14.333333  3.666667     12\n",
       "13    15.0            15.000000  0.000000     13\n",
       "14    13.0            14.666667 -1.666667     14\n",
       "15    15.0            15.333333 -0.333333     15\n",
       "16    13.0            14.333333 -1.333333     16\n",
       "17    11.0            13.666667 -2.666667     17\n",
       "18    13.0            13.000000  0.000000     18\n",
       "19    10.0            12.333333 -2.333333     19\n",
       "20    12.0            11.333333  0.666667     20\n",
       "21     NaN            11.666667       NaN     21\n",
       "22     NaN            11.666667       NaN     22\n",
       "23     NaN            11.666667       NaN     23\n",
       "24     NaN            11.666667       NaN     24"
      ]
     },
     "execution_count": 53,
     "metadata": {},
     "output_type": "execute_result"
    }
   ],
   "source": [
    "df2"
   ]
  },
  {
   "cell_type": "code",
   "execution_count": 61,
   "id": "d3e66089",
   "metadata": {},
   "outputs": [
    {
     "data": {
      "text/plain": [
       "[0      0\n",
       " 1      1\n",
       " 2      2\n",
       " 3      3\n",
       " 4      4\n",
       " 5      5\n",
       " 6      6\n",
       " 7      7\n",
       " 8      8\n",
       " 9      9\n",
       " 10    10\n",
       " 11    11\n",
       " 12    12\n",
       " 13    13\n",
       " 14    14\n",
       " 15    15\n",
       " 16    16\n",
       " 17    17\n",
       " 18    18\n",
       " 19    19\n",
       " 20    20\n",
       " 21    21\n",
       " 22    22\n",
       " 23    23\n",
       " 24    24\n",
       " Name: xvals, dtype: int32]"
      ]
     },
     "execution_count": 61,
     "metadata": {},
     "output_type": "execute_result"
    }
   ],
   "source": [
    "# xvals = [i for i in range(0, 25)]\n",
    "# xvals = pd.Series([np.arange(0, 25)])\n",
    "# xvals = pd.DataFrame([np.arange(0, 25)])\n",
    "\n",
    "xvals = [df2['xvals']]\n",
    "yvals1 = [df1['Forecast_Exp_Smooth']]\n",
    "yvals2 = [df2['Forecast_Moving_Avg']]\n"
   ]
  },
  {
   "cell_type": "code",
   "execution_count": 60,
   "id": "d08b7e28",
   "metadata": {},
   "outputs": [
    {
     "data": {
      "text/plain": [
       "[<matplotlib.lines.Line2D at 0x21ec8559b20>,\n",
       " <matplotlib.lines.Line2D at 0x21ec8559be0>,\n",
       " <matplotlib.lines.Line2D at 0x21ec8559ca0>,\n",
       " <matplotlib.lines.Line2D at 0x21ec8559d60>,\n",
       " <matplotlib.lines.Line2D at 0x21ec8559e20>,\n",
       " <matplotlib.lines.Line2D at 0x21ec8559ee0>,\n",
       " <matplotlib.lines.Line2D at 0x21ec8559fa0>,\n",
       " <matplotlib.lines.Line2D at 0x21ec85640a0>,\n",
       " <matplotlib.lines.Line2D at 0x21ec8564160>,\n",
       " <matplotlib.lines.Line2D at 0x21ec8564220>,\n",
       " <matplotlib.lines.Line2D at 0x21ec85642e0>,\n",
       " <matplotlib.lines.Line2D at 0x21ec85643a0>,\n",
       " <matplotlib.lines.Line2D at 0x21ec8564460>,\n",
       " <matplotlib.lines.Line2D at 0x21ec8564520>,\n",
       " <matplotlib.lines.Line2D at 0x21ec85645e0>,\n",
       " <matplotlib.lines.Line2D at 0x21ec85646a0>,\n",
       " <matplotlib.lines.Line2D at 0x21ec8564760>,\n",
       " <matplotlib.lines.Line2D at 0x21ec8564820>,\n",
       " <matplotlib.lines.Line2D at 0x21ec85648e0>,\n",
       " <matplotlib.lines.Line2D at 0x21ec85649a0>,\n",
       " <matplotlib.lines.Line2D at 0x21ec8564a60>,\n",
       " <matplotlib.lines.Line2D at 0x21ec8564b20>,\n",
       " <matplotlib.lines.Line2D at 0x21ec8564be0>,\n",
       " <matplotlib.lines.Line2D at 0x21ec8564ca0>,\n",
       " <matplotlib.lines.Line2D at 0x21ec8564d60>]"
      ]
     },
     "execution_count": 60,
     "metadata": {},
     "output_type": "execute_result"
    },
    {
     "data": {
      "image/png": "[encoded data removed]",
      "text/plain": [
       "<Figure size 432x288 with 1 Axes>"
      ]
     },
     "metadata": {
      "needs_background": "light"
     },
     "output_type": "display_data"
    }
   ],
   "source": [
    "f, ax = plt.subplots(1)\n",
    "ax.plot(xvals, yvals1)\n",
    "ax.plot(xvals, yvals2)"
   ]
  },
  {
   "cell_type": "code",
   "execution_count": 62,
   "id": "88adbbb1",
   "metadata": {},
   "outputs": [
    {
     "ename": "KeyError",
     "evalue": "\"None of [Index(['Forecast_Moving_Avg)'], dtype='object')] are in the [columns]\"",
     "output_type": "error",
     "traceback": [
      "\u001b[1;31m---------------------------------------------------------------------------\u001b[0m",
      "\u001b[1;31mKeyError\u001b[0m                                  Traceback (most recent call last)",
      "\u001b[1;32m<ipython-input-62-df3d60600695>\u001b[0m in \u001b[0;36m<module>\u001b[1;34m\u001b[0m\n\u001b[1;32m----> 1\u001b[1;33m \u001b[0mdf2\u001b[0m\u001b[1;33m.\u001b[0m\u001b[0mplot\u001b[0m\u001b[1;33m(\u001b[0m\u001b[0mx\u001b[0m\u001b[1;33m=\u001b[0m\u001b[1;34m\"xvals\"\u001b[0m\u001b[1;33m,\u001b[0m \u001b[0my\u001b[0m\u001b[1;33m=\u001b[0m\u001b[1;33m[\u001b[0m\u001b[1;34m\"Forecast_Moving_Avg)\"\u001b[0m\u001b[1;33m]\u001b[0m\u001b[1;33m,\u001b[0m \u001b[0mkind\u001b[0m\u001b[1;33m=\u001b[0m\u001b[1;34m\"line\"\u001b[0m\u001b[1;33m,\u001b[0m \u001b[0mfigsize\u001b[0m\u001b[1;33m=\u001b[0m\u001b[1;33m(\u001b[0m\u001b[1;36m10\u001b[0m\u001b[1;33m,\u001b[0m \u001b[1;36m10\u001b[0m\u001b[1;33m)\u001b[0m\u001b[1;33m)\u001b[0m\u001b[1;33m\u001b[0m\u001b[1;33m\u001b[0m\u001b[0m\n\u001b[0m",
      "\u001b[1;32m~\\anaconda3\\envs\\tf\\lib\\site-packages\\pandas\\plotting\\_core.py\u001b[0m in \u001b[0;36m__call__\u001b[1;34m(self, *args, **kwargs)\u001b[0m\n\u001b[0;32m    939\u001b[0m \u001b[1;33m\u001b[0m\u001b[0m\n\u001b[0;32m    940\u001b[0m                 \u001b[1;31m# don't overwrite\u001b[0m\u001b[1;33m\u001b[0m\u001b[1;33m\u001b[0m\u001b[1;33m\u001b[0m\u001b[0m\n\u001b[1;32m--> 941\u001b[1;33m                 \u001b[0mdata\u001b[0m \u001b[1;33m=\u001b[0m \u001b[0mdata\u001b[0m\u001b[1;33m[\u001b[0m\u001b[0my\u001b[0m\u001b[1;33m]\u001b[0m\u001b[1;33m.\u001b[0m\u001b[0mcopy\u001b[0m\u001b[1;33m(\u001b[0m\u001b[1;33m)\u001b[0m\u001b[1;33m\u001b[0m\u001b[1;33m\u001b[0m\u001b[0m\n\u001b[0m\u001b[0;32m    942\u001b[0m \u001b[1;33m\u001b[0m\u001b[0m\n\u001b[0;32m    943\u001b[0m                 \u001b[1;32mif\u001b[0m \u001b[0misinstance\u001b[0m\u001b[1;33m(\u001b[0m\u001b[0mdata\u001b[0m\u001b[1;33m,\u001b[0m \u001b[0mABCSeries\u001b[0m\u001b[1;33m)\u001b[0m\u001b[1;33m:\u001b[0m\u001b[1;33m\u001b[0m\u001b[1;33m\u001b[0m\u001b[0m\n",
      "\u001b[1;32m~\\anaconda3\\envs\\tf\\lib\\site-packages\\pandas\\core\\frame.py\u001b[0m in \u001b[0;36m__getitem__\u001b[1;34m(self, key)\u001b[0m\n\u001b[0;32m   3028\u001b[0m             \u001b[1;32mif\u001b[0m \u001b[0mis_iterator\u001b[0m\u001b[1;33m(\u001b[0m\u001b[0mkey\u001b[0m\u001b[1;33m)\u001b[0m\u001b[1;33m:\u001b[0m\u001b[1;33m\u001b[0m\u001b[1;33m\u001b[0m\u001b[0m\n\u001b[0;32m   3029\u001b[0m                 \u001b[0mkey\u001b[0m \u001b[1;33m=\u001b[0m \u001b[0mlist\u001b[0m\u001b[1;33m(\u001b[0m\u001b[0mkey\u001b[0m\u001b[1;33m)\u001b[0m\u001b[1;33m\u001b[0m\u001b[1;33m\u001b[0m\u001b[0m\n\u001b[1;32m-> 3030\u001b[1;33m             \u001b[0mindexer\u001b[0m \u001b[1;33m=\u001b[0m \u001b[0mself\u001b[0m\u001b[1;33m.\u001b[0m\u001b[0mloc\u001b[0m\u001b[1;33m.\u001b[0m\u001b[0m_get_listlike_indexer\u001b[0m\u001b[1;33m(\u001b[0m\u001b[0mkey\u001b[0m\u001b[1;33m,\u001b[0m \u001b[0maxis\u001b[0m\u001b[1;33m=\u001b[0m\u001b[1;36m1\u001b[0m\u001b[1;33m,\u001b[0m \u001b[0mraise_missing\u001b[0m\u001b[1;33m=\u001b[0m\u001b[1;32mTrue\u001b[0m\u001b[1;33m)\u001b[0m\u001b[1;33m[\u001b[0m\u001b[1;36m1\u001b[0m\u001b[1;33m]\u001b[0m\u001b[1;33m\u001b[0m\u001b[1;33m\u001b[0m\u001b[0m\n\u001b[0m\u001b[0;32m   3031\u001b[0m \u001b[1;33m\u001b[0m\u001b[0m\n\u001b[0;32m   3032\u001b[0m         \u001b[1;31m# take() does not accept boolean indexers\u001b[0m\u001b[1;33m\u001b[0m\u001b[1;33m\u001b[0m\u001b[1;33m\u001b[0m\u001b[0m\n",
      "\u001b[1;32m~\\anaconda3\\envs\\tf\\lib\\site-packages\\pandas\\core\\indexing.py\u001b[0m in \u001b[0;36m_get_listlike_indexer\u001b[1;34m(self, key, axis, raise_missing)\u001b[0m\n\u001b[0;32m   1264\u001b[0m             \u001b[0mkeyarr\u001b[0m\u001b[1;33m,\u001b[0m \u001b[0mindexer\u001b[0m\u001b[1;33m,\u001b[0m \u001b[0mnew_indexer\u001b[0m \u001b[1;33m=\u001b[0m \u001b[0max\u001b[0m\u001b[1;33m.\u001b[0m\u001b[0m_reindex_non_unique\u001b[0m\u001b[1;33m(\u001b[0m\u001b[0mkeyarr\u001b[0m\u001b[1;33m)\u001b[0m\u001b[1;33m\u001b[0m\u001b[1;33m\u001b[0m\u001b[0m\n\u001b[0;32m   1265\u001b[0m \u001b[1;33m\u001b[0m\u001b[0m\n\u001b[1;32m-> 1266\u001b[1;33m         \u001b[0mself\u001b[0m\u001b[1;33m.\u001b[0m\u001b[0m_validate_read_indexer\u001b[0m\u001b[1;33m(\u001b[0m\u001b[0mkeyarr\u001b[0m\u001b[1;33m,\u001b[0m \u001b[0mindexer\u001b[0m\u001b[1;33m,\u001b[0m \u001b[0maxis\u001b[0m\u001b[1;33m,\u001b[0m \u001b[0mraise_missing\u001b[0m\u001b[1;33m=\u001b[0m\u001b[0mraise_missing\u001b[0m\u001b[1;33m)\u001b[0m\u001b[1;33m\u001b[0m\u001b[1;33m\u001b[0m\u001b[0m\n\u001b[0m\u001b[0;32m   1267\u001b[0m         \u001b[1;32mreturn\u001b[0m \u001b[0mkeyarr\u001b[0m\u001b[1;33m,\u001b[0m \u001b[0mindexer\u001b[0m\u001b[1;33m\u001b[0m\u001b[1;33m\u001b[0m\u001b[0m\n\u001b[0;32m   1268\u001b[0m \u001b[1;33m\u001b[0m\u001b[0m\n",
      "\u001b[1;32m~\\anaconda3\\envs\\tf\\lib\\site-packages\\pandas\\core\\indexing.py\u001b[0m in \u001b[0;36m_validate_read_indexer\u001b[1;34m(self, key, indexer, axis, raise_missing)\u001b[0m\n\u001b[0;32m   1306\u001b[0m             \u001b[1;32mif\u001b[0m \u001b[0mmissing\u001b[0m \u001b[1;33m==\u001b[0m \u001b[0mlen\u001b[0m\u001b[1;33m(\u001b[0m\u001b[0mindexer\u001b[0m\u001b[1;33m)\u001b[0m\u001b[1;33m:\u001b[0m\u001b[1;33m\u001b[0m\u001b[1;33m\u001b[0m\u001b[0m\n\u001b[0;32m   1307\u001b[0m                 \u001b[0maxis_name\u001b[0m \u001b[1;33m=\u001b[0m \u001b[0mself\u001b[0m\u001b[1;33m.\u001b[0m\u001b[0mobj\u001b[0m\u001b[1;33m.\u001b[0m\u001b[0m_get_axis_name\u001b[0m\u001b[1;33m(\u001b[0m\u001b[0maxis\u001b[0m\u001b[1;33m)\u001b[0m\u001b[1;33m\u001b[0m\u001b[1;33m\u001b[0m\u001b[0m\n\u001b[1;32m-> 1308\u001b[1;33m                 \u001b[1;32mraise\u001b[0m \u001b[0mKeyError\u001b[0m\u001b[1;33m(\u001b[0m\u001b[1;34mf\"None of [{key}] are in the [{axis_name}]\"\u001b[0m\u001b[1;33m)\u001b[0m\u001b[1;33m\u001b[0m\u001b[1;33m\u001b[0m\u001b[0m\n\u001b[0m\u001b[0;32m   1309\u001b[0m \u001b[1;33m\u001b[0m\u001b[0m\n\u001b[0;32m   1310\u001b[0m             \u001b[0max\u001b[0m \u001b[1;33m=\u001b[0m \u001b[0mself\u001b[0m\u001b[1;33m.\u001b[0m\u001b[0mobj\u001b[0m\u001b[1;33m.\u001b[0m\u001b[0m_get_axis\u001b[0m\u001b[1;33m(\u001b[0m\u001b[0maxis\u001b[0m\u001b[1;33m)\u001b[0m\u001b[1;33m\u001b[0m\u001b[1;33m\u001b[0m\u001b[0m\n",
      "\u001b[1;31mKeyError\u001b[0m: \"None of [Index(['Forecast_Moving_Avg)'], dtype='object')] are in the [columns]\""
     ]
    }
   ],
   "source": [
    "df2.plot(x=\"xvals\", y=[\"Forecast_Moving_Avg)\"], kind=\"line\", figsize=(10, 10))"
   ]
  },
  {
   "cell_type": "code",
   "execution_count": null,
   "id": "313385fb",
   "metadata": {},
   "outputs": [],
   "source": []
  }
 ],
 "metadata": {
  "kernelspec": {
   "display_name": "Python 3",
   "language": "python",
   "name": "python3"
  },
  "language_info": {
   "codemirror_mode": {
    "name": "ipython",
    "version": 3
   },
   "file_extension": ".py",
   "mimetype": "text/x-python",
   "name": "python",
   "nbconvert_exporter": "python",
   "pygments_lexer": "ipython3",
   "version": "3.8.5"
  }
 },
 "nbformat": 4,
 "nbformat_minor": 5
}
