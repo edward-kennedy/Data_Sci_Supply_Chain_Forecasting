{
 "cells": [
  {
   "cell_type": "markdown",
   "id": "92ce385f",
   "metadata": {},
   "source": [
    "# Data Science for Supply Chain Forecasting by Nicolas Vandeput (2nd ed.)\n",
    "### Supplement by Edward Kennedy, July 2022\n",
    "\n",
    "\n",
    "## Chapter 1\n",
    "Define a moving average functon that returns a dataframe displaying demand, forecast, and error. Demand is a user furnished input (a Python list of observed demands) labeled d, forecast is the mean of the demand from the last n time increments, and error is the actual demand minus the forecast.\n",
    "\n",
    "Input parameters are the aforementioned d, the number of periods that need to be forecast into the future (default extra_periods = 1), and n the number of time increments backward that will be averaged (default n = 3)."
   ]
  },
  {
   "cell_type": "code",
   "execution_count": 1,
   "id": "df921921",
   "metadata": {},
   "outputs": [],
   "source": [
    "import pandas as pd\n",
    "import numpy as np"
   ]
  },
  {
   "cell_type": "code",
   "execution_count": 2,
   "id": "da3d87ea",
   "metadata": {},
   "outputs": [],
   "source": [
    "def moving_average(d, extra_periods = 1, n = 3):\n",
    "    \n",
    "    # Historical period length\n",
    "    cols = len(d)\n",
    "    \n",
    "    # Append np.nan into demand array to cover future periods\n",
    "    d = np.append(d,[np.nan]*extra_periods)\n",
    "    \n",
    "    # Define the forecast array.\n",
    "    f = np.full(cols+extra_periods, np.nan)\n",
    "    \n",
    "    for t in range(n,cols):\n",
    "        f[t]=np.mean(d[t-n:t])\n",
    "    \n",
    "    # Forecast for all extra periods\n",
    "    f[t+1:] = np.mean(d[t-n+1: t+1])\n",
    "    \n",
    "    # Return a Dataframe with the demand, forecast, and error\n",
    "    df = pd.DataFrame.from_dict({'Demand': d, 'Forecast':f, 'Error': d-f})\n",
    "    print(df)\n",
    "    \n",
    "    return df"
   ]
  },
  {
   "cell_type": "markdown",
   "id": "ae6367a1",
   "metadata": {},
   "source": [
    "Define the sequence of demands that will be utilized for the forecast. Write them as a Python list.  The same list as used in the book is provided below."
   ]
  },
  {
   "cell_type": "code",
   "execution_count": 3,
   "id": "c9b268e2",
   "metadata": {},
   "outputs": [],
   "source": [
    "d = [28, 19, 17, 13, 19, 16, 19, 18, 13, 16, 16, 11, 18, 15, 13, 15, 13, 11, 13, 10, 12]"
   ]
  },
  {
   "cell_type": "markdown",
   "id": "dbcc36fc",
   "metadata": {},
   "source": [
    "Call the moving average function using four extra time increments and setting the moving average to three time increments."
   ]
  },
  {
   "cell_type": "code",
   "execution_count": 4,
   "id": "027ca1ca",
   "metadata": {},
   "outputs": [
    {
     "name": "stdout",
     "output_type": "stream",
     "text": [
      "    Demand   Forecast     Error\n",
      "0     28.0        NaN       NaN\n",
      "1     19.0        NaN       NaN\n",
      "2     17.0        NaN       NaN\n",
      "3     13.0  21.333333 -8.333333\n",
      "4     19.0  16.333333  2.666667\n",
      "5     16.0  16.333333 -0.333333\n",
      "6     19.0  16.000000  3.000000\n",
      "7     18.0  18.000000  0.000000\n",
      "8     13.0  17.666667 -4.666667\n",
      "9     16.0  16.666667 -0.666667\n",
      "10    16.0  15.666667  0.333333\n",
      "11    11.0  15.000000 -4.000000\n",
      "12    18.0  14.333333  3.666667\n",
      "13    15.0  15.000000  0.000000\n",
      "14    13.0  14.666667 -1.666667\n",
      "15    15.0  15.333333 -0.333333\n",
      "16    13.0  14.333333 -1.333333\n",
      "17    11.0  13.666667 -2.666667\n",
      "18    13.0  13.000000  0.000000\n",
      "19    10.0  12.333333 -2.333333\n",
      "20    12.0  11.333333  0.666667\n",
      "21     NaN  11.666667       NaN\n",
      "22     NaN  11.666667       NaN\n",
      "23     NaN  11.666667       NaN\n",
      "24     NaN  11.666667       NaN\n"
     ]
    }
   ],
   "source": [
    "df = moving_average(d, extra_periods= 4, n=3)"
   ]
  },
  {
   "cell_type": "markdown",
   "id": "3a441ca1",
   "metadata": {},
   "source": [
    "As expected there are no forecasts or computed errors for the first n=3 periods because the moving average would require demands prior to period 0. As a sanity check consider period 3: we have (37 + 60 +85)/3 = 60.67 which is indeed the same as the first forecasted value. The actual demand was for 112 units so the corresponding error is 112 - 60.67 = 51.33 which checks with our results."
   ]
  },
  {
   "cell_type": "markdown",
   "id": "b3abb381",
   "metadata": {},
   "source": [
    "### Plot the moving average forecast. "
   ]
  },
  {
   "cell_type": "code",
   "execution_count": 5,
   "id": "407c516d",
   "metadata": {},
   "outputs": [
    {
     "data": {
      "text/plain": [
       "<AxesSubplot:title={'center':'Moving Average'}>"
      ]
     },
     "execution_count": 5,
     "metadata": {},
     "output_type": "execute_result"
    },
    {
     "data": {
      "image/png": "[encoded data removed]",
      "text/plain": [
       "<Figure size 576x216 with 1 Axes>"
      ]
     },
     "metadata": {
      "needs_background": "light"
     },
     "output_type": "display_data"
    }
   ],
   "source": [
    "df[['Demand', 'Forecast']].plot(style=['-', '--'], title = 'Moving Average', ylim = (0, 30), figsize=(8,3))"
   ]
  },
  {
   "cell_type": "code",
   "execution_count": 6,
   "id": "79526b13",
   "metadata": {},
   "outputs": [],
   "source": [
    "df.index.name = 'Period'"
   ]
  },
  {
   "cell_type": "code",
   "execution_count": 7,
   "id": "d38b5b29",
   "metadata": {},
   "outputs": [
    {
     "data": {
      "text/plain": [
       "<AxesSubplot:title={'center':'Moving Average'}, xlabel='Period'>"
      ]
     },
     "execution_count": 7,
     "metadata": {},
     "output_type": "execute_result"
    },
    {
     "data": {
      "image/png": "[encoded data removed]",
      "text/plain": [
       "<Figure size 576x216 with 1 Axes>"
      ]
     },
     "metadata": {
      "needs_background": "light"
     },
     "output_type": "display_data"
    }
   ],
   "source": [
    "df[['Demand', 'Forecast']].plot(style=['-', '--'], title = 'Moving Average', ylim = (0, 30), figsize=(8,3))"
   ]
  },
  {
   "cell_type": "code",
   "execution_count": null,
   "id": "34c74aa5",
   "metadata": {},
   "outputs": [],
   "source": []
  }
 ],
 "metadata": {
  "kernelspec": {
   "display_name": "Python 3",
   "language": "python",
   "name": "python3"
  },
  "language_info": {
   "codemirror_mode": {
    "name": "ipython",
    "version": 3
   },
   "file_extension": ".py",
   "mimetype": "text/x-python",
   "name": "python",
   "nbconvert_exporter": "python",
   "pygments_lexer": "ipython3",
   "version": "3.8.5"
  }
 },
 "nbformat": 4,
 "nbformat_minor": 5
}
